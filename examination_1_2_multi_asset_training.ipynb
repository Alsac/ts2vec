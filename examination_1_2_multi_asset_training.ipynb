{
 "cells": [
  {
   "cell_type": "markdown",
   "metadata": {},
   "source": [
    "# 多资产训练"
   ]
  },
  {
   "cell_type": "code",
   "execution_count": 1,
   "metadata": {},
   "outputs": [],
   "source": [
    "import pandas as pd\n",
    "import numpy as np"
   ]
  },
  {
   "cell_type": "code",
   "execution_count": 2,
   "metadata": {},
   "outputs": [],
   "source": [
    "data = pd.read_parquet(r'D:\\home\\work\\seafile_root\\王彦龙\\我的资料库\\私人资料库\\A股日频量价数据集\\Astock_daily_2011_2022.parquet.gzip')"
   ]
  },
  {
   "cell_type": "code",
   "execution_count": 7,
   "metadata": {},
   "outputs": [],
   "source": [
    "data1 = data.iloc[:,[2]]"
   ]
  },
  {
   "cell_type": "code",
   "execution_count": 11,
   "metadata": {},
   "outputs": [
    {
     "data": {
      "text/plain": [
       "array([[16.02],\n",
       "       [ 8.8 ],\n",
       "       [ 3.75],\n",
       "       ...,\n",
       "       [75.96],\n",
       "       [45.71],\n",
       "       [43.39]])"
      ]
     },
     "execution_count": 11,
     "metadata": {},
     "output_type": "execute_result"
    }
   ],
   "source": [
    "data1.to_numpy()"
   ]
  },
  {
   "cell_type": "code",
   "execution_count": 14,
   "metadata": {},
   "outputs": [
    {
     "data": {
      "text/html": [
       "<div>\n",
       "<style scoped>\n",
       "    .dataframe tbody tr th:only-of-type {\n",
       "        vertical-align: middle;\n",
       "    }\n",
       "\n",
       "    .dataframe tbody tr th {\n",
       "        vertical-align: top;\n",
       "    }\n",
       "\n",
       "    .dataframe thead th {\n",
       "        text-align: right;\n",
       "    }\n",
       "</style>\n",
       "<table border=\"1\" class=\"dataframe\">\n",
       "  <thead>\n",
       "    <tr style=\"text-align: right;\">\n",
       "      <th></th>\n",
       "      <th></th>\n",
       "      <th>close</th>\n",
       "    </tr>\n",
       "    <tr>\n",
       "      <th>date</th>\n",
       "      <th>code</th>\n",
       "      <th></th>\n",
       "    </tr>\n",
       "  </thead>\n",
       "  <tbody>\n",
       "    <tr>\n",
       "      <th rowspan=\"5\" valign=\"top\">2011-01-04</th>\n",
       "      <th>000001.SZ</th>\n",
       "      <td>2.773838</td>\n",
       "    </tr>\n",
       "    <tr>\n",
       "      <th>000002.SZ</th>\n",
       "      <td>2.174752</td>\n",
       "    </tr>\n",
       "    <tr>\n",
       "      <th>000005.SZ</th>\n",
       "      <td>1.321756</td>\n",
       "    </tr>\n",
       "    <tr>\n",
       "      <th>000006.SZ</th>\n",
       "      <td>1.983756</td>\n",
       "    </tr>\n",
       "    <tr>\n",
       "      <th>000009.SZ</th>\n",
       "      <td>2.829678</td>\n",
       "    </tr>\n",
       "    <tr>\n",
       "      <th>...</th>\n",
       "      <th>...</th>\n",
       "      <td>...</td>\n",
       "    </tr>\n",
       "    <tr>\n",
       "      <th rowspan=\"5\" valign=\"top\">2022-04-01</th>\n",
       "      <th>688599.SH</th>\n",
       "      <td>4.092677</td>\n",
       "    </tr>\n",
       "    <tr>\n",
       "      <th>688600.SH</th>\n",
       "      <td>2.660260</td>\n",
       "    </tr>\n",
       "    <tr>\n",
       "      <th>688788.SH</th>\n",
       "      <td>4.330207</td>\n",
       "    </tr>\n",
       "    <tr>\n",
       "      <th>688981.SH</th>\n",
       "      <td>3.822317</td>\n",
       "    </tr>\n",
       "    <tr>\n",
       "      <th>689009.SH</th>\n",
       "      <td>3.770229</td>\n",
       "    </tr>\n",
       "  </tbody>\n",
       "</table>\n",
       "<p>8157488 rows × 1 columns</p>\n",
       "</div>"
      ],
      "text/plain": [
       "                         close\n",
       "date       code               \n",
       "2011-01-04 000001.SZ  2.773838\n",
       "           000002.SZ  2.174752\n",
       "           000005.SZ  1.321756\n",
       "           000006.SZ  1.983756\n",
       "           000009.SZ  2.829678\n",
       "...                        ...\n",
       "2022-04-01 688599.SH  4.092677\n",
       "           688600.SH  2.660260\n",
       "           688788.SH  4.330207\n",
       "           688981.SH  3.822317\n",
       "           689009.SH  3.770229\n",
       "\n",
       "[8157488 rows x 1 columns]"
      ]
     },
     "execution_count": 14,
     "metadata": {},
     "output_type": "execute_result"
    }
   ],
   "source": [
    "np.log(data1)"
   ]
  },
  {
   "cell_type": "code",
   "execution_count": null,
   "metadata": {},
   "outputs": [],
   "source": []
  }
 ],
 "metadata": {
  "kernelspec": {
   "display_name": "PyCharm (ts2vec)",
   "language": "python",
   "name": "pycharm-bfd34be"
  },
  "language_info": {
   "codemirror_mode": {
    "name": "ipython",
    "version": 3
   },
   "file_extension": ".py",
   "mimetype": "text/x-python",
   "name": "python",
   "nbconvert_exporter": "python",
   "pygments_lexer": "ipython3",
   "version": "3.7.10"
  }
 },
 "nbformat": 4,
 "nbformat_minor": 2
}
